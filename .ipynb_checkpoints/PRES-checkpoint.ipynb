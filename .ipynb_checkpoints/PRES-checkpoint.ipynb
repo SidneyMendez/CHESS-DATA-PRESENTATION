{
 "cells": [
  {
   "cell_type": "code",
   "execution_count": null,
   "id": "93e05e86-38c4-417d-a395-8292748fd546",
   "metadata": {},
   "outputs": [],
   "source": [
    "df = pd.read_csv('chess_games.csv')\n",
    "print(df.head())"
   ]
  },
  {
   "cell_type": "code",
   "execution_count": null,
   "id": "3ce7e79a-498a-47de-a0c6-2ba6665bdca5",
   "metadata": {},
   "outputs": [],
   "source": []
  },
  {
   "cell_type": "code",
   "execution_count": null,
   "id": "dd4f33a4-7bcd-4f34-ad80-6b4c65f1e56b",
   "metadata": {},
   "outputs": [],
   "source": []
  }
 ],
 "metadata": {
  "kernelspec": {
   "display_name": "Python 3 (ipykernel)",
   "language": "python",
   "name": "python3"
  },
  "language_info": {
   "codemirror_mode": {
    "name": "ipython",
    "version": 3
   },
   "file_extension": ".py",
   "mimetype": "text/x-python",
   "name": "python",
   "nbconvert_exporter": "python",
   "pygments_lexer": "ipython3",
   "version": "3.10.13"
  }
 },
 "nbformat": 4,
 "nbformat_minor": 5
}
